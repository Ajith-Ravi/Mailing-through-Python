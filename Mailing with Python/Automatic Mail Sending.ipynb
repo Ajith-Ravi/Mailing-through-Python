{
 "cells": [
  {
   "cell_type": "code",
   "execution_count": 1,
   "metadata": {},
   "outputs": [],
   "source": [
    "import smtplib\n",
    "from getpass import getpass"
   ]
  },
  {
   "cell_type": "markdown",
   "metadata": {},
   "source": [
    "## Connecting Server ##"
   ]
  },
  {
   "cell_type": "code",
   "execution_count": 2,
   "metadata": {},
   "outputs": [],
   "source": [
    "def create_server(host_address,port_number):\n",
    "    global svr\n",
    "    svr = smtplib.SMTP(host=host_address,port=port_number)\n",
    "    svr.starttls() #converting insecure connection to secure connection \n",
    "create_server(\"smtp.gmail.com\",587)\n"
   ]
  },
  {
   "cell_type": "markdown",
   "metadata": {},
   "source": [
    "## User Mail and Pasword ##"
   ]
  },
  {
   "cell_type": "code",
   "execution_count": 3,
   "metadata": {},
   "outputs": [
    {
     "name": "stdout",
     "output_type": "stream",
     "text": [
      "Enter Mail Address : ajith.techfest@gmail.com\n",
      "Enter Password : ········\n"
     ]
    }
   ],
   "source": [
    "def user():\n",
    "    global Mail_address,Password\n",
    "    Mail_address = input(\"Enter Mail Address : \")\n",
    "    Password = getpass(\"Enter Password : \")\n",
    "    svr.login(\"{ad}\".format(ad=Mail_address),\"{pd}\".format(pd = Password))\n",
    "user()   "
   ]
  },
  {
   "cell_type": "markdown",
   "metadata": {},
   "source": [
    "## Contacts list function #"
   ]
  },
  {
   "cell_type": "code",
   "execution_count": 4,
   "metadata": {},
   "outputs": [],
   "source": [
    "def contacts(contacts_file):\n",
    "    global Names \n",
    "    Names = []\n",
    "    global Mails\n",
    "    Mails = []\n",
    "    if contacts_file[-4:] == \".csv\":\n",
    "        with open(contacts_file,'r') as contact  : \n",
    "            for each_contact in contact:\n",
    "                data =  each_contact.split(\",\")\n",
    "                Names.append(data[0])\n",
    "                Mails.append(data[1])\n",
    "        return Names,Mails\n",
    "    elif contacts_file[-4:] == \".txt\":\n",
    "        with open(contacts_file,'r') as contact  : \n",
    "            for each_contact in contact:\n",
    "                data = each_contact.split(\"  \")\n",
    "                Names.append(data[0])\n",
    "                Mails.append(data[1]) \n",
    "        return Names,Mails\n",
    "    else: \n",
    "        print(\"Only .csv or .txt file\")\n",
    "#contacts(\"contacts.csv\")\n",
    "\n",
    "    \n",
    "    "
   ]
  },
  {
   "cell_type": "markdown",
   "metadata": {},
   "source": [
    "## Body Message #"
   ]
  },
  {
   "cell_type": "code",
   "execution_count": 5,
   "metadata": {},
   "outputs": [],
   "source": [
    "#Template for custom name and address\n",
    "from string import Template\n",
    "def body_msg(body_file):\n",
    "    if body_file[-4:] == \".txt\":\n",
    "        with open(body_file,'r',encoding = 'utf-8') as message:\n",
    "            msg_content = message.read()\n",
    "            global template_msg\n",
    "            template_msg = Template(msg_content)\n",
    "        #return template_msg\n",
    "    else :\n",
    "        print(\"Only text file\")\n",
    "    \n",
    "        \n",
    "    \n",
    "def body_msg_htm(body_file_htm):\n",
    "    if ((body_file_htm[-4:] == \".htm\") or (body_file_htm[-5:] == \".html\")) :\n",
    "        with open(body_file_htm,'r',encoding = 'utf-8') as message:\n",
    "            global html_msg_content\n",
    "            html_msg_content = message.read()\n",
    "            #return html_msg_content\n",
    "    else :\n",
    "        print(\"Only html file\")\n",
    "    \n",
    "\n",
    "body_msg(\"msg.txt\")\n",
    "body_msg_htm(\"COVID-19.html\")\n",
    "\n"
   ]
  },
  {
   "cell_type": "markdown",
   "metadata": {},
   "source": [
    "## Function for Sending .txt message ##"
   ]
  },
  {
   "cell_type": "code",
   "execution_count": 6,
   "metadata": {},
   "outputs": [],
   "source": [
    "from email.mime.multipart import MIMEMultipart\n",
    "from email.mime.text import MIMEText\n",
    "\n",
    "def final_mail_and_send(contacts_file):\n",
    "    Names,Mails = contacts(contacts_file)\n",
    "    for Name,Mail in zip(Names,Mails):\n",
    "        \n",
    "        #Creating a message\n",
    "        global msg\n",
    "        msg = MIMEMultipart() \n",
    "        \n",
    "        #body message from function body_msg\n",
    "        body_message = template_msg\n",
    "        \n",
    "        #Customising the body message\n",
    "        global message\n",
    "        final_message = body_message.substitute(PERSON = Name.title(),MAIL_ID = Mail)\n",
    "        \n",
    "        #From ,to , Subject\n",
    "        msg['From'] = Mail_address\n",
    "        msg['To'] = Mail\n",
    "        msg['Subject'] = \"Hi Hello\"\n",
    "        #Body\n",
    "        msg.attach(MIMEText(final_message,'plain'))\n",
    "        \n",
    "        #Sending\n",
    "        svr.send_message(msg)\n",
    "        del msg\n",
    "final_mail_and_send(\"contacts.csv\")    \n",
    "\n",
    "    "
   ]
  },
  {
   "cell_type": "markdown",
   "metadata": {},
   "source": [
    "## Function for sending .html Message ##"
   ]
  },
  {
   "cell_type": "code",
   "execution_count": 7,
   "metadata": {},
   "outputs": [],
   "source": [
    "def final_mail_and_send_html(contacts_file):\n",
    "    Names,Mails = contacts(contacts_file)\n",
    "    for Name,Mail in zip(Names,Mails):\n",
    "        \n",
    "        #Creating a message\n",
    "        global msg\n",
    "        msg = MIMEMultipart() \n",
    "        \n",
    "        #body message from function body_msg\n",
    "        body_htm_message = html_msg_content #for html message\n",
    "        \n",
    "        #From ,to , Subject\n",
    "        msg['From'] = Mail_address\n",
    "        msg['To'] = Mail\n",
    "        msg['Subject'] = \"Hi Hello\"\n",
    "        \n",
    "        #Body\n",
    "        msg.attach(MIMEText(body_htm_message,'html'))\n",
    "        \n",
    "        #Sending\n",
    "        svr.send_message(msg)\n",
    "        del msg\n",
    "    svr.quit()\n",
    "        \n",
    "        \n",
    "final_mail_and_send_html(\"contacts.csv\")    \n"
   ]
  }
 ],
 "metadata": {
  "kernelspec": {
   "display_name": "Python 3.7.7 64-bit",
   "language": "python",
   "name": "python37764bit37bb34037a7d49a09cea56e4b1c7f0d5"
  },
  "language_info": {
   "codemirror_mode": {
    "name": "ipython",
    "version": 3
   },
   "file_extension": ".py",
   "mimetype": "text/x-python",
   "name": "python",
   "nbconvert_exporter": "python",
   "pygments_lexer": "ipython3",
   "version": "3.7.7"
  }
 },
 "nbformat": 4,
 "nbformat_minor": 4
}
